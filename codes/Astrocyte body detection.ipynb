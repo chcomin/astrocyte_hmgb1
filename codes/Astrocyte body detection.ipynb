{
 "cells": [
  {
   "attachments": {},
   "cell_type": "markdown",
   "id": "a7e152d1",
   "metadata": {},
   "source": [
    "### CNN training for astrocyte body identification\n",
    "\n",
    "*Step (a1) of the block diagram in the methods section"
   ]
  },
  {
   "cell_type": "code",
   "execution_count": null,
   "id": "dc5af5ff",
   "metadata": {
    "code_folding": [],
    "scrolled": true
   },
   "outputs": [],
   "source": [
    "# Initial imports and device setting\n",
    "from pathlib import Path\n",
    "from functools import partial\n",
    "import os\n",
    "import random\n",
    "\n",
    "import matplotlib.pyplot as plt\n",
    "\n",
    "import torch\n",
    "from torch.utils.data import dataloader as torch_dataloader\n",
    "import imgaug.augmenters as iaa\n",
    "\n",
    "from torchtrainer.imagedataset import ImageSegmentationDataset\n",
    "from torchtrainer import img_util\n",
    "from torchtrainer import transforms\n",
    "from torchtrainer.models.resunet import ResUNet\n",
    "from torchtrainer.learner import Learner\n",
    "from torchtrainer import perf_funcs\n",
    "\n",
    "if torch.cuda.is_available():\n",
    "    device = torch.device('cuda')\n",
    "else:\n",
    "    device = torch.device('cpu')"
   ]
  },
  {
   "cell_type": "code",
   "execution_count": 9,
   "id": "2595fa5a",
   "metadata": {},
   "outputs": [],
   "source": [
    "# Data management functions\n",
    "def name_2_label_map(img_filename):   \n",
    "    '''Translates image name to binary label name.'''\n",
    "\n",
    "    return img_filename.split('.')[0] + '.png'\n",
    "\n",
    "def get_train_val_files(img_dir, val_split, ages_to_use, seed=None):\n",
    "    '''Split the files into train and validation.'''\n",
    "    \n",
    "    if seed is not None:\n",
    "        random.seed(seed)\n",
    "\n",
    "    ages_dict = {}\n",
    "    for file in os.listdir(img_dir):\n",
    "        filename = file\n",
    "        age = file.split('@')[0]\n",
    "        if age in ages_dict and age in ages_to_use:\n",
    "            ages_dict[age].append(filename)\n",
    "        else:\n",
    "            ages_dict[age] = [filename]\n",
    "\n",
    "    val_files = []\n",
    "    train_files = []\n",
    "    for age, files in ages_dict.items():\n",
    "\n",
    "        num_val_files = int(len(files)*val_split)\n",
    "        age_val_files = random.sample(files, num_val_files)\n",
    "        age_train_files = filter(lambda x: x not in age_val_files, files)\n",
    "        val_files += age_val_files\n",
    "        train_files += age_train_files  \n",
    "\n",
    "    return train_files, val_files"
   ]
  },
  {
   "cell_type": "code",
   "execution_count": 10,
   "id": "d2a64248",
   "metadata": {},
   "outputs": [],
   "source": [
    "#Parameters\n",
    "\n",
    "root_dir = Path('Astrocytes samples/')\n",
    "img_dir = root_dir/'selected samples'              # Original images\n",
    "label_dir = root_dir/'selected samples - labels'   # Manually annotated images\n",
    "\n",
    "params = {\n",
    "            'size':(384, 384),   # Image size\n",
    "            'batch_size':5,   \n",
    "            'val_split':0.2,\n",
    "            'epochs':100,\n",
    "            'lr':0.001,\n",
    "            'channel':None,           # If None, use all channels\n",
    "         }"
   ]
  },
  {
   "cell_type": "code",
   "execution_count": 15,
   "id": "208ad3f0",
   "metadata": {},
   "outputs": [],
   "source": [
    "# Create dataloaders\n",
    "\n",
    "val_split = params['val_split']\n",
    "ages_to_use = ['P0', 'P5', 'P7', 'P14', 'P21']\n",
    "train_files, val_files = get_train_val_files(img_dir, val_split, ages_to_use)\n",
    "\n",
    "# Create functions for using in the dataset creation\n",
    "img_opener_partial = partial(img_util.pil_img_opener, channel=params['channel'])\n",
    "label_opener_partial = partial(img_util.pil_img_opener, is_label=True)\n",
    "\n",
    "# Image transformations for data augmentation\n",
    "imgaug_seq = iaa.Sequential([\n",
    "    iaa.GaussianBlur(sigma=[1, 2]),\n",
    "    iaa.OneOf([\n",
    "        iaa.GammaContrast(gamma=(0.5, 1.7)),\n",
    "        iaa.pillike.EnhanceBrightness(factor=(0.5, 2.)),\n",
    "        iaa.pillike.EnhanceContrast(factor=(0.5, 2.))\n",
    "        ]),\n",
    "    iaa.AdditiveGaussianNoise(loc=0, scale=(0, 20)),\n",
    "    iaa.Fliplr(0.5),\n",
    "    iaa.Flipud(0.5),\n",
    "    iaa.Crop(px=(0, 20))\n",
    "])\n",
    "transform_funcs = transforms.seq_pil_to_imgaug_to_tensor(imgaug_seq)\n",
    "transform_train =  transform_funcs + [transforms.TransfWhitten([28.095], [26.230])]   # Average and standard deviation calculated for the data\n",
    "transform_valid = [transforms.TransfToTensor(), transforms.TransfWhitten([28.095], [26.230])]  \n",
    "\n",
    "# Create ImageDataset instance\n",
    "train_ds = ImageSegmentationDataset(img_dir, label_dir, name_to_label_map=name_2_label_map, filename_filter=train_files,\n",
    "                                   img_opener=img_opener_partial, label_opener=label_opener_partial, \n",
    "                                   transforms=transform_train)\n",
    "valid_ds = ImageSegmentationDataset(img_dir, label_dir, name_to_label_map=name_2_label_map, filename_filter=val_files,\n",
    "                                   img_opener=img_opener_partial, label_opener=label_opener_partial, \n",
    "                                   transforms=transform_valid)\n",
    "\n",
    "train_dl = torch_dataloader.DataLoader(train_ds, batch_size=params['batch_size'], shuffle=True)\n",
    "valid_dl = torch_dataloader.DataLoader(valid_ds, batch_size=params['batch_size'], shuffle=False)"
   ]
  },
  {
   "cell_type": "code",
   "execution_count": null,
   "id": "17f49fae",
   "metadata": {
    "scrolled": true
   },
   "outputs": [],
   "source": [
    "# Train the network\n",
    "\n",
    "%%time\n",
    "loss_func = perf_funcs.DiceLossRaw()\n",
    "\n",
    "model = ResUNet(num_channels=1, num_classes=2) \n",
    "optimizer = torch.optim.Adam(model.parameters(), lr=params['lr'])\n",
    "scheduler = torch.optim.lr_scheduler.OneCycleLR(optimizer, max_lr=params['lr'], epochs=params['epochs'], \n",
    "                                                steps_per_epoch=len(train_dl), pct_start=0.9)\n",
    "\n",
    "learner = Learner(model, loss_func, optimizer, train_dl, valid_dl, scheduler, \n",
    "                       perf_funcs=perf_funcs.build_segmentation_accuracy_dict(), main_perf_func='f1',\n",
    "                       scheduler_step_epoch=False)\n",
    "learner.fit(params['epochs'])"
   ]
  },
  {
   "cell_type": "code",
   "execution_count": 10,
   "id": "30464d82",
   "metadata": {},
   "outputs": [
    {
     "data": {
      "text/plain": [
       "[<matplotlib.lines.Line2D at 0x1f483493448>]"
      ]
     },
     "execution_count": 10,
     "metadata": {},
     "output_type": "execute_result"
    },
    {
     "data": {
      "image/png": "[encoded data removed]",
      "text/plain": [
       "<Figure size 432x288 with 1 Axes>"
      ]
     },
     "metadata": {
      "needs_background": "light"
     },
     "output_type": "display_data"
    },
    {
     "data": {
      "image/png": "[encoded data removed]",
      "text/plain": [
       "<Figure size 432x288 with 1 Axes>"
      ]
     },
     "metadata": {
      "needs_background": "light"
     },
     "output_type": "display_data"
    }
   ],
   "source": [
    "# Plot loss\n",
    "plt.figure()\n",
    "plt.plot(learner.train_loss_history)\n",
    "plt.plot(learner.valid_loss_history)\n",
    "\n",
    "plt.figure()\n",
    "plt.plot(learner.lr_history)"
   ]
  }
 ],
 "metadata": {
  "kernelspec": {
   "display_name": "Python 3 (ipykernel)",
   "language": "python",
   "name": "python3"
  },
  "language_info": {
   "codemirror_mode": {
    "name": "ipython",
    "version": 3
   },
   "file_extension": ".py",
   "mimetype": "text/x-python",
   "name": "python",
   "nbconvert_exporter": "python",
   "pygments_lexer": "ipython3",
   "version": "3.9.15"
  }
 },
 "nbformat": 4,
 "nbformat_minor": 5
}
