{
 "cells": [
  {
   "attachments": {},
   "cell_type": "markdown",
   "id": "fe88000a",
   "metadata": {},
   "source": [
    "### Astrocyte process identification\n",
    "\n",
    "*Step (a2) of the block diagram in the methods section"
   ]
  },
  {
   "cell_type": "code",
   "execution_count": 2,
   "id": "8d4f5b94",
   "metadata": {},
   "outputs": [],
   "source": [
    "from functools import partial\n",
    "\n",
    "from pyvane import pipeline   # https://github.com/chcomin/pyvane"
   ]
  },
  {
   "cell_type": "code",
   "execution_count": 3,
   "id": "fa4c47b1",
   "metadata": {},
   "outputs": [],
   "source": [
    "# Parameters\n",
    "\n",
    "root = 'Astrocytes/'   # Dataset location\n",
    "    \n",
    "params = {\n",
    "    # Pipeline params\n",
    "    'save_steps': ('segmentation'), \n",
    "    'roi_process': None,\n",
    "    # File params\n",
    "    'batch_name':    '2D analysis astrocytes',\n",
    "    'input_path':     root,\n",
    "    'output_path':    root+'pipeline/',\n",
    "    'name_filter': None,\n",
    "    'channel_to_use': None,\n",
    "    # Segmentation params\n",
    "    'threshold': root+'data/thresholds.txt',  # Thresholds used\n",
    "    'sigma': [1., 1.], # For Gaussian smoothing\n",
    "    'radius': 44,     # Radius of the thresholding window, in pixels\n",
    "    'comp_size': 55,  # Connected components smaller than this are removed\n",
    "    'hole_size': 0,   # All holes are removed\n",
    "}\n",
    "\n",
    "# The parameters below were used for segmenting connexin (Step (c) of the block diagram in the methods section)\n",
    "params_conexin = {\n",
    "    'save_steps': ('segmentation', 'skeletonization', 'network'), \n",
    "    'sigma': [1., 1.],\n",
    "    'radius': 44,\n",
    "    'comp_size': 33,\n",
    "    'length_threshold': 5,   # Threshold for pruning graph edges\n",
    "}"
   ]
  },
  {
   "cell_type": "code",
   "execution_count": 18,
   "id": "2ab4b091",
   "metadata": {},
   "outputs": [],
   "source": [
    "# Process images\n",
    "\n",
    "img_reader = partial(pipeline.read_and_adjust_img, channel=params['channel_to_use'], roi=params['roi_process'])\n",
    "segmenter = pipeline.DefaultSegmenter(\n",
    "            threshold=params['threshold'], sigma=params['sigma'], radius=params['radius'], \n",
    "            comp_size=params['comp_size'], hole_size=params['hole_size'], batch_name=params['batch_name']\n",
    ")\n",
    "\n",
    "\n",
    "pipe = pipeline.BasePipeline(params['input_path'], img_reader, output_path=params['output_path'],\n",
    "                             batch_name=params['batch_name'], name_filter=params['name_filter'])\n",
    "pipe.set_processors(segmenter)\n",
    "res = pipe.run()"
   ]
  }
 ],
 "metadata": {
  "kernelspec": {
   "display_name": "Python 3 (ipykernel)",
   "language": "python",
   "name": "python3"
  },
  "language_info": {
   "codemirror_mode": {
    "name": "ipython",
    "version": 3
   },
   "file_extension": ".py",
   "mimetype": "text/x-python",
   "name": "python",
   "nbconvert_exporter": "python",
   "pygments_lexer": "ipython3",
   "version": "3.9.15"
  }
 },
 "nbformat": 4,
 "nbformat_minor": 5
}
